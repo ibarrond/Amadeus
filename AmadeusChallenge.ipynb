{
  "nbformat": 4,
  "nbformat_minor": 0,
  "metadata": {
    "colab": {
      "name": "AmadeusChallenge.ipynb",
      "version": "0.3.2",
      "provenance": [],
      "collapsed_sections": [],
      "include_colab_link": true
    },
    "kernelspec": {
      "name": "python3",
      "display_name": "Python 3"
    },
    "accelerator": "GPU"
  },
  "cells": [
    {
      "cell_type": "markdown",
      "metadata": {
        "id": "view-in-github",
        "colab_type": "text"
      },
      "source": [
        "[View in Colaboratory](https://colab.research.google.com/github/ibarrond/Amadeus/blob/master/AmadeusChallenge.ipynb)"
      ]
    },
    {
      "metadata": {
        "id": "Jm2h1kTok1o3",
        "colab_type": "text"
      },
      "cell_type": "markdown",
      "source": [
        "# Amadeus challenge for Data Scientists\n",
        "\n",
        "---\n",
        "\n"
      ]
    },
    {
      "metadata": {
        "id": "UU7js348l2gw",
        "colab_type": "text"
      },
      "cell_type": "markdown",
      "source": [
        "## 1. Set Up the Environment and Load the Data\n",
        "This environment, as part of a Linux Virtual Machine, offers Python3 with GPU acceleration and 12 GB of RAM. The RAM size makes it possible to handle the size of the two files provided for this challenge in memory:\n",
        "- `booking.csv` - 4GB\n",
        "- `searches.csv` - 3.4GB"
      ]
    },
    {
      "metadata": {
        "id": "-vdS1Z_fzPwr",
        "colab_type": "text"
      },
      "cell_type": "markdown",
      "source": [
        "### 1.1 Obtaining the Data\n",
        "In order to import the data we upload the files to a Google Drive folder , then mount our Drive folder in the VM (based on [this tutorial](https://colab.research.google.com/notebooks/io.ipynb)) and finally access the files:"
      ]
    },
    {
      "metadata": {
        "id": "o6nvyH4YmugE",
        "colab_type": "code",
        "colab": {
          "base_uri": "https://localhost:8080/",
          "height": 34
        },
        "outputId": "e511c191-66bb-4857-ad59-e8c45c51f21b"
      },
      "cell_type": "code",
      "source": [
        "from google.colab import drive\n",
        "drive.mount('/content/gdrive')"
      ],
      "execution_count": 4,
      "outputs": [
        {
          "output_type": "stream",
          "text": [
            "Mounted at /content/gdrive\n"
          ],
          "name": "stdout"
        }
      ]
    },
    {
      "metadata": {
        "id": "UD6gABOLogr7",
        "colab_type": "text"
      },
      "cell_type": "markdown",
      "source": [
        "We check that the files are there:"
      ]
    },
    {
      "metadata": {
        "id": "fOG_DH_Jnc3G",
        "colab_type": "code",
        "colab": {
          "base_uri": "https://localhost:8080/",
          "height": 85
        },
        "outputId": "e242f191-8f48-4b86-a6e3-c56dd3365c52"
      },
      "cell_type": "code",
      "source": [
        "!ls -la 'gdrive/My Drive/Colab Notebooks/Amadeus'"
      ],
      "execution_count": 19,
      "outputs": [
        {
          "output_type": "stream",
          "text": [
            "total 7754993\n",
            "-rw------- 1 root root       8350 Oct  8 12:59 AmadeusChallenge.ipynb\n",
            "-rw------- 1 root root 4244874509 Oct  8 11:57 bookings.csv\n",
            "-rw------- 1 root root 3696229366 Oct  8 12:36 searches.csv\n"
          ],
          "name": "stdout"
        }
      ]
    },
    {
      "metadata": {
        "id": "U9gGGVPGwe_y",
        "colab_type": "code",
        "colab": {}
      },
      "cell_type": "code",
      "source": [
        "# We store the path to each of the data files\n",
        "bookings_file = 'gdrive/My Drive/Colab Notebooks/Amadeus/bookings.csv'\n",
        "searches_file = 'gdrive/My Drive/Colab Notebooks/Amadeus/searches.csv'"
      ],
      "execution_count": 0,
      "outputs": []
    },
    {
      "metadata": {
        "id": "QWrj3j83w6CY",
        "colab_type": "text"
      },
      "cell_type": "markdown",
      "source": [
        "#### # FIRST EXERCISE: count the number of lines in Python for each file_\n",
        "After a quick searck online, this [source](https://stackoverflow.com/questions/16108526/count-how-many-lines-are-in-a-csv-python) suggested the use of `open()` function to read the number of files:"
      ]
    },
    {
      "metadata": {
        "id": "xmEmanZLw5I8",
        "colab_type": "code",
        "colab": {}
      },
      "cell_type": "code",
      "source": [
        "with open(bookings_file) as f: bookings_num_lines = sum(1 for line in f)\n",
        "with open(searches_file) as f: searches_num_lines = sum(1 for line in f)"
      ],
      "execution_count": 0,
      "outputs": []
    },
    {
      "metadata": {
        "id": "8BNEUWHCyi6j",
        "colab_type": "code",
        "colab": {
          "base_uri": "https://localhost:8080/",
          "height": 34
        },
        "outputId": "589ddc08-8843-4d08-c370-242d639f5a95"
      },
      "cell_type": "code",
      "source": [
        "bookings_num_lines"
      ],
      "execution_count": 7,
      "outputs": [
        {
          "output_type": "execute_result",
          "data": {
            "text/plain": [
              "10000011"
            ]
          },
          "metadata": {
            "tags": []
          },
          "execution_count": 7
        }
      ]
    },
    {
      "metadata": {
        "id": "pwDbd147ynQ-",
        "colab_type": "code",
        "colab": {
          "base_uri": "https://localhost:8080/",
          "height": 34
        },
        "outputId": "f90a8c13-92a4-45ee-ae5e-f0e28f81fcf4"
      },
      "cell_type": "code",
      "source": [
        "searches_num_lines"
      ],
      "execution_count": 8,
      "outputs": [
        {
          "output_type": "execute_result",
          "data": {
            "text/plain": [
              "20390199"
            ]
          },
          "metadata": {
            "tags": []
          },
          "execution_count": 8
        }
      ]
    },
    {
      "metadata": {
        "id": "N81uLPvex2uf",
        "colab_type": "text"
      },
      "cell_type": "markdown",
      "source": [
        "__*RESULT*__: we counted **10,000,011** lines in the `bookings.csv` file, and **20,390,199** lines in the `searches.csv` file."
      ]
    },
    {
      "metadata": {
        "id": "YFxWjnnco3i_",
        "colab_type": "text"
      },
      "cell_type": "markdown",
      "source": [
        "### 1.2 Importing the Data\n",
        "Now that the files are there, we import them to our IPython session using **Pandas**. Indeed, we will use Pandas for most of our data management."
      ]
    },
    {
      "metadata": {
        "id": "8DUecEPCpOi4",
        "colab_type": "code",
        "colab": {},
        "cellView": "both"
      },
      "cell_type": "code",
      "source": [
        "import pandas as pd\n",
        "import numpy as np"
      ],
      "execution_count": 0,
      "outputs": []
    },
    {
      "metadata": {
        "id": "CS7Ci48pzrPl",
        "colab_type": "text"
      },
      "cell_type": "markdown",
      "source": [
        "Before importing the whole csv file, we'll first have a look at the data structure by examining the first few lines of the file:"
      ]
    },
    {
      "metadata": {
        "id": "4emLR722tXOY",
        "colab_type": "code",
        "colab": {
          "base_uri": "https://localhost:8080/",
          "height": 258
        },
        "outputId": "f832711b-b7bb-4286-8eae-e66121be10e8"
      },
      "cell_type": "code",
      "source": [
        "bookings = pd.read_csv(bookings_file)\n",
        "bookings.head()"
      ],
      "execution_count": 25,
      "outputs": [
        {
          "output_type": "execute_result",
          "data": {
            "text/html": [
              "<div>\n",
              "<style scoped>\n",
              "    .dataframe tbody tr th:only-of-type {\n",
              "        vertical-align: middle;\n",
              "    }\n",
              "\n",
              "    .dataframe tbody tr th {\n",
              "        vertical-align: top;\n",
              "    }\n",
              "\n",
              "    .dataframe thead th {\n",
              "        text-align: right;\n",
              "    }\n",
              "</style>\n",
              "<table border=\"1\" class=\"dataframe\">\n",
              "  <thead>\n",
              "    <tr style=\"text-align: right;\">\n",
              "      <th></th>\n",
              "      <th>act_date           ^source^pos_ctry^pos_iata^pos_oid  ^rloc          ^cre_date           ^duration^distance^dep_port^dep_city^dep_ctry^arr_port^arr_city^arr_ctry^lst_port^lst_city^lst_ctry^brd_port^brd_city^brd_ctry^off_port^off_city^off_ctry^mkt_port^mkt_city^mkt_ctry^intl^route          ^carrier^bkg_class^cab_class^brd_time           ^off_time           ^pax^year^month^oid</th>\n",
              "    </tr>\n",
              "  </thead>\n",
              "  <tbody>\n",
              "    <tr>\n",
              "      <th>0</th>\n",
              "      <td>2013-03-05 00:00:00^1A    ^DE      ^a68dd7ae95...</td>\n",
              "    </tr>\n",
              "    <tr>\n",
              "      <th>1</th>\n",
              "      <td>2013-03-26 00:00:00^1A    ^US      ^e612b9eeee...</td>\n",
              "    </tr>\n",
              "    <tr>\n",
              "      <th>2</th>\n",
              "      <td>2013-03-26 00:00:00^1A    ^US      ^e612b9eeee...</td>\n",
              "    </tr>\n",
              "    <tr>\n",
              "      <th>3</th>\n",
              "      <td>2013-03-26 00:00:00^1A    ^AU      ^0f984b3bb6...</td>\n",
              "    </tr>\n",
              "    <tr>\n",
              "      <th>4</th>\n",
              "      <td>2013-03-26 00:00:00^1A    ^AU      ^0f984b3bb6...</td>\n",
              "    </tr>\n",
              "  </tbody>\n",
              "</table>\n",
              "</div>"
            ],
            "text/plain": [
              "  act_date           ^source^pos_ctry^pos_iata^pos_oid  ^rloc          ^cre_date           ^duration^distance^dep_port^dep_city^dep_ctry^arr_port^arr_city^arr_ctry^lst_port^lst_city^lst_ctry^brd_port^brd_city^brd_ctry^off_port^off_city^off_ctry^mkt_port^mkt_city^mkt_ctry^intl^route          ^carrier^bkg_class^cab_class^brd_time           ^off_time           ^pax^year^month^oid      \n",
              "0  2013-03-05 00:00:00^1A    ^DE      ^a68dd7ae95...                                                                                                                                                                                                                                                                                                                                             \n",
              "1  2013-03-26 00:00:00^1A    ^US      ^e612b9eeee...                                                                                                                                                                                                                                                                                                                                             \n",
              "2  2013-03-26 00:00:00^1A    ^US      ^e612b9eeee...                                                                                                                                                                                                                                                                                                                                             \n",
              "3  2013-03-26 00:00:00^1A    ^AU      ^0f984b3bb6...                                                                                                                                                                                                                                                                                                                                             \n",
              "4  2013-03-26 00:00:00^1A    ^AU      ^0f984b3bb6...                                                                                                                                                                                                                                                                                                                                             "
            ]
          },
          "metadata": {
            "tags": []
          },
          "execution_count": 25
        }
      ]
    },
    {
      "metadata": {
        "id": "3Db5FzVWz-mN",
        "colab_type": "text"
      },
      "cell_type": "markdown",
      "source": [
        "Clearly the symbol '^' is being used as separator. With this in mind, we load the data correctly:"
      ]
    },
    {
      "metadata": {
        "id": "LRRp7lyL0Ske",
        "colab_type": "code",
        "colab": {
          "base_uri": "https://localhost:8080/",
          "height": 423
        },
        "outputId": "89f1c8d0-dd88-4d32-9406-08b829ec0458"
      },
      "cell_type": "code",
      "source": [
        "bookings = pd.read_csv(bookings_file, sep='^', nrows=5)\n",
        "bookings.head()"
      ],
      "execution_count": 9,
      "outputs": [
        {
          "output_type": "execute_result",
          "data": {
            "text/html": [
              "<div>\n",
              "<style scoped>\n",
              "    .dataframe tbody tr th:only-of-type {\n",
              "        vertical-align: middle;\n",
              "    }\n",
              "\n",
              "    .dataframe tbody tr th {\n",
              "        vertical-align: top;\n",
              "    }\n",
              "\n",
              "    .dataframe thead th {\n",
              "        text-align: right;\n",
              "    }\n",
              "</style>\n",
              "<table border=\"1\" class=\"dataframe\">\n",
              "  <thead>\n",
              "    <tr style=\"text-align: right;\">\n",
              "      <th></th>\n",
              "      <th>act_date</th>\n",
              "      <th>source</th>\n",
              "      <th>pos_ctry</th>\n",
              "      <th>pos_iata</th>\n",
              "      <th>pos_oid</th>\n",
              "      <th>rloc</th>\n",
              "      <th>cre_date</th>\n",
              "      <th>duration</th>\n",
              "      <th>distance</th>\n",
              "      <th>dep_port</th>\n",
              "      <th>...</th>\n",
              "      <th>route</th>\n",
              "      <th>carrier</th>\n",
              "      <th>bkg_class</th>\n",
              "      <th>cab_class</th>\n",
              "      <th>brd_time</th>\n",
              "      <th>off_time</th>\n",
              "      <th>pax</th>\n",
              "      <th>year</th>\n",
              "      <th>month</th>\n",
              "      <th>oid</th>\n",
              "    </tr>\n",
              "  </thead>\n",
              "  <tbody>\n",
              "    <tr>\n",
              "      <th>0</th>\n",
              "      <td>2013-03-05 00:00:00</td>\n",
              "      <td>1A</td>\n",
              "      <td>DE</td>\n",
              "      <td>a68dd7ae953c8acfb187a1af2dcbe123</td>\n",
              "      <td>1a11ae49fcbf545fd2afc1a24d88d2b7</td>\n",
              "      <td>ea65900e72d71f4626378e2ebd298267</td>\n",
              "      <td>2013-02-22 00:00:00</td>\n",
              "      <td>1708</td>\n",
              "      <td>0</td>\n",
              "      <td>ZRH</td>\n",
              "      <td>...</td>\n",
              "      <td>LHRZRH</td>\n",
              "      <td>VI</td>\n",
              "      <td>T</td>\n",
              "      <td>Y</td>\n",
              "      <td>2013-03-07 08:50:00</td>\n",
              "      <td>2013-03-07 11:33:37</td>\n",
              "      <td>-1</td>\n",
              "      <td>2013</td>\n",
              "      <td>3</td>\n",
              "      <td>NULL</td>\n",
              "    </tr>\n",
              "    <tr>\n",
              "      <th>1</th>\n",
              "      <td>2013-03-26 00:00:00</td>\n",
              "      <td>1A</td>\n",
              "      <td>US</td>\n",
              "      <td>e612b9eeeee6f17f42d9b0d3b79e75ca</td>\n",
              "      <td>7437560d8f276d6d05eeb806d9e7edee</td>\n",
              "      <td>737295a86982c941f1c2da9a46a14043</td>\n",
              "      <td>2013-03-26 00:00:00</td>\n",
              "      <td>135270</td>\n",
              "      <td>0</td>\n",
              "      <td>SAL</td>\n",
              "      <td>...</td>\n",
              "      <td>SALATLCLT</td>\n",
              "      <td>NV</td>\n",
              "      <td>L</td>\n",
              "      <td>Y</td>\n",
              "      <td>2013-04-12 13:04:00</td>\n",
              "      <td>2013-04-12 22:05:40</td>\n",
              "      <td>1</td>\n",
              "      <td>2013</td>\n",
              "      <td>3</td>\n",
              "      <td>NULL</td>\n",
              "    </tr>\n",
              "    <tr>\n",
              "      <th>2</th>\n",
              "      <td>2013-03-26 00:00:00</td>\n",
              "      <td>1A</td>\n",
              "      <td>US</td>\n",
              "      <td>e612b9eeeee6f17f42d9b0d3b79e75ca</td>\n",
              "      <td>7437560d8f276d6d05eeb806d9e7edee</td>\n",
              "      <td>737295a86982c941f1c2da9a46a14043</td>\n",
              "      <td>2013-03-26 00:00:00</td>\n",
              "      <td>135270</td>\n",
              "      <td>0</td>\n",
              "      <td>SAL</td>\n",
              "      <td>...</td>\n",
              "      <td>CLTATLSAL</td>\n",
              "      <td>NV</td>\n",
              "      <td>U</td>\n",
              "      <td>Y</td>\n",
              "      <td>2013-07-15 07:00:00</td>\n",
              "      <td>2013-07-15 11:34:51</td>\n",
              "      <td>1</td>\n",
              "      <td>2013</td>\n",
              "      <td>3</td>\n",
              "      <td>NULL</td>\n",
              "    </tr>\n",
              "    <tr>\n",
              "      <th>3</th>\n",
              "      <td>2013-03-26 00:00:00</td>\n",
              "      <td>1A</td>\n",
              "      <td>AU</td>\n",
              "      <td>0f984b3bb6bd06661c95529bbd6193bc</td>\n",
              "      <td>36472c6dbaf7afec9136ac40364e2794</td>\n",
              "      <td>5ecf00fdcbcec761c43dc7285253d0c1</td>\n",
              "      <td>2013-03-26 00:00:00</td>\n",
              "      <td>30885</td>\n",
              "      <td>0</td>\n",
              "      <td>AKL</td>\n",
              "      <td>...</td>\n",
              "      <td>AKLHKGSVO</td>\n",
              "      <td>XK</td>\n",
              "      <td>G</td>\n",
              "      <td>Y</td>\n",
              "      <td>2013-04-24 23:59:00</td>\n",
              "      <td>2013-04-25 16:06:31</td>\n",
              "      <td>1</td>\n",
              "      <td>2013</td>\n",
              "      <td>3</td>\n",
              "      <td>SYDA82546</td>\n",
              "    </tr>\n",
              "    <tr>\n",
              "      <th>4</th>\n",
              "      <td>2013-03-26 00:00:00</td>\n",
              "      <td>1A</td>\n",
              "      <td>AU</td>\n",
              "      <td>0f984b3bb6bd06661c95529bbd6193bc</td>\n",
              "      <td>36472c6dbaf7afec9136ac40364e2794</td>\n",
              "      <td>5ecf00fdcbcec761c43dc7285253d0c1</td>\n",
              "      <td>2013-03-26 00:00:00</td>\n",
              "      <td>30885</td>\n",
              "      <td>0</td>\n",
              "      <td>AKL</td>\n",
              "      <td>...</td>\n",
              "      <td>SVOHKGAKL</td>\n",
              "      <td>XK</td>\n",
              "      <td>G</td>\n",
              "      <td>Y</td>\n",
              "      <td>2013-05-14 20:15:00</td>\n",
              "      <td>2013-05-16 10:44:50</td>\n",
              "      <td>1</td>\n",
              "      <td>2013</td>\n",
              "      <td>3</td>\n",
              "      <td>SYDA82546</td>\n",
              "    </tr>\n",
              "  </tbody>\n",
              "</table>\n",
              "<p>5 rows × 38 columns</p>\n",
              "</div>"
            ],
            "text/plain": [
              "   act_date             source  pos_ctry                          pos_iata  \\\n",
              "0  2013-03-05 00:00:00  1A      DE        a68dd7ae953c8acfb187a1af2dcbe123   \n",
              "1  2013-03-26 00:00:00  1A      US        e612b9eeeee6f17f42d9b0d3b79e75ca   \n",
              "2  2013-03-26 00:00:00  1A      US        e612b9eeeee6f17f42d9b0d3b79e75ca   \n",
              "3  2013-03-26 00:00:00  1A      AU        0f984b3bb6bd06661c95529bbd6193bc   \n",
              "4  2013-03-26 00:00:00  1A      AU        0f984b3bb6bd06661c95529bbd6193bc   \n",
              "\n",
              "                          pos_oid                      rloc            \\\n",
              "0  1a11ae49fcbf545fd2afc1a24d88d2b7  ea65900e72d71f4626378e2ebd298267   \n",
              "1  7437560d8f276d6d05eeb806d9e7edee  737295a86982c941f1c2da9a46a14043   \n",
              "2  7437560d8f276d6d05eeb806d9e7edee  737295a86982c941f1c2da9a46a14043   \n",
              "3  36472c6dbaf7afec9136ac40364e2794  5ecf00fdcbcec761c43dc7285253d0c1   \n",
              "4  36472c6dbaf7afec9136ac40364e2794  5ecf00fdcbcec761c43dc7285253d0c1   \n",
              "\n",
              "   cre_date             duration  distance  dep_port    ...      \\\n",
              "0  2013-02-22 00:00:00      1708         0  ZRH         ...       \n",
              "1  2013-03-26 00:00:00    135270         0  SAL         ...       \n",
              "2  2013-03-26 00:00:00    135270         0  SAL         ...       \n",
              "3  2013-03-26 00:00:00     30885         0  AKL         ...       \n",
              "4  2013-03-26 00:00:00     30885         0  AKL         ...       \n",
              "\n",
              "   route           carrier  bkg_class  cab_class  brd_time             \\\n",
              "0  LHRZRH               VI  T          Y          2013-03-07 08:50:00   \n",
              "1  SALATLCLT            NV  L          Y          2013-04-12 13:04:00   \n",
              "2  CLTATLSAL            NV  U          Y          2013-07-15 07:00:00   \n",
              "3  AKLHKGSVO            XK  G          Y          2013-04-24 23:59:00   \n",
              "4  SVOHKGAKL            XK  G          Y          2013-05-14 20:15:00   \n",
              "\n",
              "   off_time            pax  year month  oid        \n",
              "0  2013-03-07 11:33:37  -1  2013     3  NULL       \n",
              "1  2013-04-12 22:05:40   1  2013     3  NULL       \n",
              "2  2013-07-15 11:34:51   1  2013     3  NULL       \n",
              "3  2013-04-25 16:06:31   1  2013     3  SYDA82546  \n",
              "4  2013-05-16 10:44:50   1  2013     3  SYDA82546  \n",
              "\n",
              "[5 rows x 38 columns]"
            ]
          },
          "metadata": {
            "tags": []
          },
          "execution_count": 9
        }
      ]
    },
    {
      "metadata": {
        "id": "aE7GLos554PI",
        "colab_type": "text"
      },
      "cell_type": "markdown",
      "source": [
        "We still need to format the data in a propper way. To do so we inspect one row and assign types to each of the fields:"
      ]
    },
    {
      "metadata": {
        "id": "MhER9QFF5Zh5",
        "colab_type": "code",
        "colab": {
          "base_uri": "https://localhost:8080/",
          "height": 680
        },
        "outputId": "b4f2e335-4d9b-44fe-ff6e-901416b4e029"
      },
      "cell_type": "code",
      "source": [
        "bookings.iloc[0]"
      ],
      "execution_count": 16,
      "outputs": [
        {
          "output_type": "execute_result",
          "data": {
            "text/plain": [
              "act_date                            2013-03-05 00:00:00\n",
              "source                                           1A    \n",
              "pos_ctry                                       DE      \n",
              "pos_iata               a68dd7ae953c8acfb187a1af2dcbe123\n",
              "pos_oid                1a11ae49fcbf545fd2afc1a24d88d2b7\n",
              "rloc                   ea65900e72d71f4626378e2ebd298267\n",
              "cre_date                            2013-02-22 00:00:00\n",
              "duration                                           1708\n",
              "distance                                              0\n",
              "dep_port                                       ZRH     \n",
              "dep_city                                       ZRH     \n",
              "dep_ctry                                       CH      \n",
              "arr_port                                       LHR     \n",
              "arr_city                                       LON     \n",
              "arr_ctry                                       GB      \n",
              "lst_port                                       ZRH     \n",
              "lst_city                                       ZRH     \n",
              "lst_ctry                                       CH      \n",
              "brd_port                                       LHR     \n",
              "brd_city                                       LON     \n",
              "brd_ctry                                       GB      \n",
              "off_port                                       ZRH     \n",
              "off_city                                       ZRH     \n",
              "off_ctry                                       CH      \n",
              "mkt_port                                       LHRZRH  \n",
              "mkt_city                                       LONZRH  \n",
              "mkt_ctry                                       CHGB    \n",
              "intl                                                  1\n",
              "route                                   LHRZRH         \n",
              "carrier                                              VI\n",
              "bkg_class                                     T        \n",
              "cab_class                                     Y        \n",
              "brd_time                            2013-03-07 08:50:00\n",
              "off_time                            2013-03-07 11:33:37\n",
              "pax                                                  -1\n",
              "year                                               2013\n",
              "month                                                 3\n",
              "oid                                           NULL     \n",
              "Name: 0, dtype: object"
            ]
          },
          "metadata": {
            "tags": []
          },
          "execution_count": 16
        }
      ]
    },
    {
      "metadata": {
        "id": "6l9mUvvK6jWx",
        "colab_type": "code",
        "colab": {}
      },
      "cell_type": "code",
      "source": [
        "dtype_dict = {\n",
        "    'act_date':'datetime64',\n",
        "    'source': 'category',\n",
        "    'pos_ctry': 'category',\n",
        "    'pos_iata': 'str',\n",
        "    'pos_oid': 'str',\n",
        "    'rloc': 'str',\n",
        "    'cre_date': 'datetime64',\n",
        "    'duration': 'int64',\n",
        "    'distance': 'float64',\n",
        "    'dep_port': 'category',\n",
        "    'dep_city': 'category',\n",
        "    'dep_ctry': 'category',\n",
        "    'arr_port': 'category',\n",
        "    'arr_city': 'category',\n",
        "    'arr_ctry': 'category',\n",
        "    'lst_port': 'category',\n",
        "    'lst_city': 'category',\n",
        "    'lst_ctry': 'category',\n",
        "    'brd_port': 'category',\n",
        "    'brd_city': 'category',\n",
        "    'brd_ctry': 'category',\n",
        "    'off_port': 'category',\n",
        "    'off_city': 'category',\n",
        "    'off_ctry': 'category',\n",
        "    'mkt_port': 'str',\n",
        "    'mkt_city': 'str',\n",
        "    'mkt_ctry': 'str',\n",
        "    'intl': 'int64',\n",
        "    'route': 'str',\n",
        "    'carrier': 'category',\n",
        "    'bkg_class': 'category',\n",
        "    'cab_class': 'category',\n",
        "    'brd_time': 'datetime64',\n",
        "    'off_time': 'datetime64',\n",
        "    'pax': 'int64',\n",
        "    'year': 'int64',\n",
        "    'month': 'int64',\n",
        "    'oid': 'str'}"
      ],
      "execution_count": 0,
      "outputs": []
    },
    {
      "metadata": {
        "id": "oPRIRNqFAdLn",
        "colab_type": "text"
      },
      "cell_type": "markdown",
      "source": [
        "We finally load all the `bookings.csv` data correctly:"
      ]
    },
    {
      "metadata": {
        "id": "uOLJ94WPAlEh",
        "colab_type": "code",
        "colab": {
          "base_uri": "https://localhost:8080/",
          "height": 948
        },
        "outputId": "2c2378ab-6ea3-4389-917a-63a6804b3d63"
      },
      "cell_type": "code",
      "source": [
        "bookings = pd.read_csv(bookings_file, sep='^', dtype=dtype_dict)"
      ],
      "execution_count": 24,
      "outputs": [
        {
          "output_type": "error",
          "ename": "ValueError",
          "evalue": "ignored",
          "traceback": [
            "\u001b[0;31m---------------------------------------------------------------------------\u001b[0m",
            "\u001b[0;31mTypeError\u001b[0m                                 Traceback (most recent call last)",
            "\u001b[0;32mpandas/_libs/parsers.pyx\u001b[0m in \u001b[0;36mpandas._libs.parsers.TextReader._convert_tokens\u001b[0;34m()\u001b[0m\n",
            "\u001b[0;31mTypeError\u001b[0m: Cannot cast array from dtype('O') to dtype('int64') according to the rule 'safe'",
            "\nDuring handling of the above exception, another exception occurred:\n",
            "\u001b[0;31mValueError\u001b[0m                                Traceback (most recent call last)",
            "\u001b[0;32m<ipython-input-24-edf441f186e7>\u001b[0m in \u001b[0;36m<module>\u001b[0;34m()\u001b[0m\n\u001b[0;32m----> 1\u001b[0;31m \u001b[0mbookings\u001b[0m \u001b[0;34m=\u001b[0m \u001b[0mpd\u001b[0m\u001b[0;34m.\u001b[0m\u001b[0mread_csv\u001b[0m\u001b[0;34m(\u001b[0m\u001b[0mbookings_file\u001b[0m\u001b[0;34m,\u001b[0m \u001b[0msep\u001b[0m\u001b[0;34m=\u001b[0m\u001b[0;34m'^'\u001b[0m\u001b[0;34m,\u001b[0m \u001b[0mdtype\u001b[0m\u001b[0;34m=\u001b[0m\u001b[0mdtype_dict\u001b[0m\u001b[0;34m)\u001b[0m\u001b[0;34m\u001b[0m\u001b[0m\n\u001b[0m",
            "\u001b[0;32m/usr/local/lib/python3.6/dist-packages/pandas/io/parsers.py\u001b[0m in \u001b[0;36mparser_f\u001b[0;34m(filepath_or_buffer, sep, delimiter, header, names, index_col, usecols, squeeze, prefix, mangle_dupe_cols, dtype, engine, converters, true_values, false_values, skipinitialspace, skiprows, nrows, na_values, keep_default_na, na_filter, verbose, skip_blank_lines, parse_dates, infer_datetime_format, keep_date_col, date_parser, dayfirst, iterator, chunksize, compression, thousands, decimal, lineterminator, quotechar, quoting, escapechar, comment, encoding, dialect, tupleize_cols, error_bad_lines, warn_bad_lines, skipfooter, skip_footer, doublequote, delim_whitespace, as_recarray, compact_ints, use_unsigned, low_memory, buffer_lines, memory_map, float_precision)\u001b[0m\n\u001b[1;32m    707\u001b[0m                     skip_blank_lines=skip_blank_lines)\n\u001b[1;32m    708\u001b[0m \u001b[0;34m\u001b[0m\u001b[0m\n\u001b[0;32m--> 709\u001b[0;31m         \u001b[0;32mreturn\u001b[0m \u001b[0m_read\u001b[0m\u001b[0;34m(\u001b[0m\u001b[0mfilepath_or_buffer\u001b[0m\u001b[0;34m,\u001b[0m \u001b[0mkwds\u001b[0m\u001b[0;34m)\u001b[0m\u001b[0;34m\u001b[0m\u001b[0m\n\u001b[0m\u001b[1;32m    710\u001b[0m \u001b[0;34m\u001b[0m\u001b[0m\n\u001b[1;32m    711\u001b[0m     \u001b[0mparser_f\u001b[0m\u001b[0;34m.\u001b[0m\u001b[0m__name__\u001b[0m \u001b[0;34m=\u001b[0m \u001b[0mname\u001b[0m\u001b[0;34m\u001b[0m\u001b[0m\n",
            "\u001b[0;32m/usr/local/lib/python3.6/dist-packages/pandas/io/parsers.py\u001b[0m in \u001b[0;36m_read\u001b[0;34m(filepath_or_buffer, kwds)\u001b[0m\n\u001b[1;32m    453\u001b[0m \u001b[0;34m\u001b[0m\u001b[0m\n\u001b[1;32m    454\u001b[0m     \u001b[0;32mtry\u001b[0m\u001b[0;34m:\u001b[0m\u001b[0;34m\u001b[0m\u001b[0m\n\u001b[0;32m--> 455\u001b[0;31m         \u001b[0mdata\u001b[0m \u001b[0;34m=\u001b[0m \u001b[0mparser\u001b[0m\u001b[0;34m.\u001b[0m\u001b[0mread\u001b[0m\u001b[0;34m(\u001b[0m\u001b[0mnrows\u001b[0m\u001b[0;34m)\u001b[0m\u001b[0;34m\u001b[0m\u001b[0m\n\u001b[0m\u001b[1;32m    456\u001b[0m     \u001b[0;32mfinally\u001b[0m\u001b[0;34m:\u001b[0m\u001b[0;34m\u001b[0m\u001b[0m\n\u001b[1;32m    457\u001b[0m         \u001b[0mparser\u001b[0m\u001b[0;34m.\u001b[0m\u001b[0mclose\u001b[0m\u001b[0;34m(\u001b[0m\u001b[0;34m)\u001b[0m\u001b[0;34m\u001b[0m\u001b[0m\n",
            "\u001b[0;32m/usr/local/lib/python3.6/dist-packages/pandas/io/parsers.py\u001b[0m in \u001b[0;36mread\u001b[0;34m(self, nrows)\u001b[0m\n\u001b[1;32m   1067\u001b[0m                 \u001b[0;32mraise\u001b[0m \u001b[0mValueError\u001b[0m\u001b[0;34m(\u001b[0m\u001b[0;34m'skipfooter not supported for iteration'\u001b[0m\u001b[0;34m)\u001b[0m\u001b[0;34m\u001b[0m\u001b[0m\n\u001b[1;32m   1068\u001b[0m \u001b[0;34m\u001b[0m\u001b[0m\n\u001b[0;32m-> 1069\u001b[0;31m         \u001b[0mret\u001b[0m \u001b[0;34m=\u001b[0m \u001b[0mself\u001b[0m\u001b[0;34m.\u001b[0m\u001b[0m_engine\u001b[0m\u001b[0;34m.\u001b[0m\u001b[0mread\u001b[0m\u001b[0;34m(\u001b[0m\u001b[0mnrows\u001b[0m\u001b[0;34m)\u001b[0m\u001b[0;34m\u001b[0m\u001b[0m\n\u001b[0m\u001b[1;32m   1070\u001b[0m \u001b[0;34m\u001b[0m\u001b[0m\n\u001b[1;32m   1071\u001b[0m         \u001b[0;32mif\u001b[0m \u001b[0mself\u001b[0m\u001b[0;34m.\u001b[0m\u001b[0moptions\u001b[0m\u001b[0;34m.\u001b[0m\u001b[0mget\u001b[0m\u001b[0;34m(\u001b[0m\u001b[0;34m'as_recarray'\u001b[0m\u001b[0;34m)\u001b[0m\u001b[0;34m:\u001b[0m\u001b[0;34m\u001b[0m\u001b[0m\n",
            "\u001b[0;32m/usr/local/lib/python3.6/dist-packages/pandas/io/parsers.py\u001b[0m in \u001b[0;36mread\u001b[0;34m(self, nrows)\u001b[0m\n\u001b[1;32m   1837\u001b[0m     \u001b[0;32mdef\u001b[0m \u001b[0mread\u001b[0m\u001b[0;34m(\u001b[0m\u001b[0mself\u001b[0m\u001b[0;34m,\u001b[0m \u001b[0mnrows\u001b[0m\u001b[0;34m=\u001b[0m\u001b[0;32mNone\u001b[0m\u001b[0;34m)\u001b[0m\u001b[0;34m:\u001b[0m\u001b[0;34m\u001b[0m\u001b[0m\n\u001b[1;32m   1838\u001b[0m         \u001b[0;32mtry\u001b[0m\u001b[0;34m:\u001b[0m\u001b[0;34m\u001b[0m\u001b[0m\n\u001b[0;32m-> 1839\u001b[0;31m             \u001b[0mdata\u001b[0m \u001b[0;34m=\u001b[0m \u001b[0mself\u001b[0m\u001b[0;34m.\u001b[0m\u001b[0m_reader\u001b[0m\u001b[0;34m.\u001b[0m\u001b[0mread\u001b[0m\u001b[0;34m(\u001b[0m\u001b[0mnrows\u001b[0m\u001b[0;34m)\u001b[0m\u001b[0;34m\u001b[0m\u001b[0m\n\u001b[0m\u001b[1;32m   1840\u001b[0m         \u001b[0;32mexcept\u001b[0m \u001b[0mStopIteration\u001b[0m\u001b[0;34m:\u001b[0m\u001b[0;34m\u001b[0m\u001b[0m\n\u001b[1;32m   1841\u001b[0m             \u001b[0;32mif\u001b[0m \u001b[0mself\u001b[0m\u001b[0;34m.\u001b[0m\u001b[0m_first_chunk\u001b[0m\u001b[0;34m:\u001b[0m\u001b[0;34m\u001b[0m\u001b[0m\n",
            "\u001b[0;32mpandas/_libs/parsers.pyx\u001b[0m in \u001b[0;36mpandas._libs.parsers.TextReader.read\u001b[0;34m()\u001b[0m\n",
            "\u001b[0;32mpandas/_libs/parsers.pyx\u001b[0m in \u001b[0;36mpandas._libs.parsers.TextReader._read_low_memory\u001b[0;34m()\u001b[0m\n",
            "\u001b[0;32mpandas/_libs/parsers.pyx\u001b[0m in \u001b[0;36mpandas._libs.parsers.TextReader._read_rows\u001b[0;34m()\u001b[0m\n",
            "\u001b[0;32mpandas/_libs/parsers.pyx\u001b[0m in \u001b[0;36mpandas._libs.parsers.TextReader._convert_column_data\u001b[0;34m()\u001b[0m\n",
            "\u001b[0;32mpandas/_libs/parsers.pyx\u001b[0m in \u001b[0;36mpandas._libs.parsers.TextReader._convert_tokens\u001b[0;34m()\u001b[0m\n",
            "\u001b[0;31mValueError\u001b[0m: invalid literal for int() with base 10: 'NRT     '"
          ]
        }
      ]
    }
  ]
}