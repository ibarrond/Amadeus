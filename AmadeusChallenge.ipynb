{
  "nbformat": 4,
  "nbformat_minor": 0,
  "metadata": {
    "colab": {
      "name": "AmadeusChallenge.ipynb",
      "version": "0.3.2",
      "provenance": [],
      "collapsed_sections": [],
      "include_colab_link": true
    },
    "kernelspec": {
      "name": "python3",
      "display_name": "Python 3"
    },
    "accelerator": "GPU"
  },
  "cells": [
    {
      "cell_type": "markdown",
      "metadata": {
        "id": "view-in-github",
        "colab_type": "text"
      },
      "source": [
        "[View in Colaboratory](https://colab.research.google.com/github/ibarrond/Amadeus/blob/master/AmadeusChallenge.ipynb)"
      ]
    },
    {
      "metadata": {
        "id": "Jm2h1kTok1o3",
        "colab_type": "text"
      },
      "cell_type": "markdown",
      "source": [
        "# Amadeus challenge for Data Scientists\n",
        "\n",
        "---\n",
        "\n"
      ]
    },
    {
      "metadata": {
        "id": "UU7js348l2gw",
        "colab_type": "text"
      },
      "cell_type": "markdown",
      "source": [
        "## 1. Set Up the Environment and Load the Data\n",
        "This environment, as part of a Linux Virtual Machine, offers Python3 with GPU acceleration and 12 GB of RAM. The RAM size makes it possible to handle the size of the two files provided for this challenge in memory:\n",
        "- `booking.csv` - 4GB\n",
        "- `searches.csv` - 3.4GB"
      ]
    },
    {
      "metadata": {
        "id": "-vdS1Z_fzPwr",
        "colab_type": "text"
      },
      "cell_type": "markdown",
      "source": [
        "## 1.1 Obtaining the Data\n",
        "In order to import the data we upload the files to a Google Drive folder , then mount our Drive folder in the VM (based on [this tutorial](https://colab.research.google.com/notebooks/io.ipynb)) and finally access the files:"
      ]
    },
    {
      "metadata": {
        "id": "o6nvyH4YmugE",
        "colab_type": "code",
        "colab": {}
      },
      "cell_type": "code",
      "source": [
        "from google.colab import drive\n",
        "drive.mount('/content/gdrive')"
      ],
      "execution_count": 0,
      "outputs": []
    },
    {
      "metadata": {
        "id": "UD6gABOLogr7",
        "colab_type": "text"
      },
      "cell_type": "markdown",
      "source": [
        "We check that the files are there:"
      ]
    },
    {
      "metadata": {
        "id": "fOG_DH_Jnc3G",
        "colab_type": "code",
        "colab": {
          "base_uri": "https://localhost:8080/",
          "height": 85
        },
        "outputId": "e242f191-8f48-4b86-a6e3-c56dd3365c52"
      },
      "cell_type": "code",
      "source": [
        "!ls -la 'gdrive/My Drive/Colab Notebooks/Amadeus'"
      ],
      "execution_count": 19,
      "outputs": [
        {
          "output_type": "stream",
          "text": [
            "total 7754993\n",
            "-rw------- 1 root root       8350 Oct  8 12:59 AmadeusChallenge.ipynb\n",
            "-rw------- 1 root root 4244874509 Oct  8 11:57 bookings.csv\n",
            "-rw------- 1 root root 3696229366 Oct  8 12:36 searches.csv\n"
          ],
          "name": "stdout"
        }
      ]
    },
    {
      "metadata": {
        "id": "U9gGGVPGwe_y",
        "colab_type": "code",
        "colab": {}
      },
      "cell_type": "code",
      "source": [
        "# We store the path to each of the data files\n",
        "bookings_file = 'gdrive/My Drive/Colab Notebooks/Amadeus/bookings.csv'\n",
        "searches_file = 'gdrive/My Drive/Colab Notebooks/Amadeus/searches.csv'"
      ],
      "execution_count": 0,
      "outputs": []
    },
    {
      "metadata": {
        "id": "QWrj3j83w6CY",
        "colab_type": "text"
      },
      "cell_type": "markdown",
      "source": [
        "### # FIRST EXERCISE: count the number of lines in Python for each file_\n",
        "After a quick searck online, this [source](https://stackoverflow.com/questions/16108526/count-how-many-lines-are-in-a-csv-python) suggested the use of `open()` function to read the number of files:"
      ]
    },
    {
      "metadata": {
        "id": "xmEmanZLw5I8",
        "colab_type": "code",
        "colab": {}
      },
      "cell_type": "code",
      "source": [
        "with open(bookings_file) as f: bookings_num_lines = sum(1 for line in f)\n",
        "with open(searches_file) as f: searches_num_lines = sum(1 for line in f)"
      ],
      "execution_count": 0,
      "outputs": []
    },
    {
      "metadata": {
        "id": "8BNEUWHCyi6j",
        "colab_type": "code",
        "colab": {
          "base_uri": "https://localhost:8080/",
          "height": 34
        },
        "outputId": "af6a2dce-f34d-4575-91bd-9ce2b83720ff"
      },
      "cell_type": "code",
      "source": [
        "bookings_num_lines"
      ],
      "execution_count": 23,
      "outputs": [
        {
          "output_type": "execute_result",
          "data": {
            "text/plain": [
              "10000011"
            ]
          },
          "metadata": {
            "tags": []
          },
          "execution_count": 23
        }
      ]
    },
    {
      "metadata": {
        "id": "pwDbd147ynQ-",
        "colab_type": "code",
        "colab": {
          "base_uri": "https://localhost:8080/",
          "height": 34
        },
        "outputId": "1d38590b-50ec-44f1-a5e7-cbeb78369c34"
      },
      "cell_type": "code",
      "source": [
        "searches_num_lines"
      ],
      "execution_count": 24,
      "outputs": [
        {
          "output_type": "execute_result",
          "data": {
            "text/plain": [
              "20390199"
            ]
          },
          "metadata": {
            "tags": []
          },
          "execution_count": 24
        }
      ]
    },
    {
      "metadata": {
        "id": "N81uLPvex2uf",
        "colab_type": "text"
      },
      "cell_type": "markdown",
      "source": [
        "__*RESULT*__: we counted **10,000,011** lines in the `bookings.csv` file; and **2,0390,199** lines in the `searches.csv` file."
      ]
    },
    {
      "metadata": {
        "id": "YFxWjnnco3i_",
        "colab_type": "text"
      },
      "cell_type": "markdown",
      "source": [
        "## 1.2 Importing the Data\n",
        "Now that the files are there, we import them to our IPython session using **Pandas**. Indeed, we will use Pandas for most of our data management."
      ]
    },
    {
      "metadata": {
        "id": "8DUecEPCpOi4",
        "colab_type": "code",
        "colab": {},
        "cellView": "both"
      },
      "cell_type": "code",
      "source": [
        "import pandas as pd"
      ],
      "execution_count": 0,
      "outputs": []
    },
    {
      "metadata": {
        "id": "CS7Ci48pzrPl",
        "colab_type": "text"
      },
      "cell_type": "markdown",
      "source": [
        "Before importing the whole csv file, we'll first have a look at the data structure by examining the first few lines of the file:"
      ]
    },
    {
      "metadata": {
        "id": "4emLR722tXOY",
        "colab_type": "code",
        "colab": {
          "base_uri": "https://localhost:8080/",
          "height": 258
        },
        "outputId": "f832711b-b7bb-4286-8eae-e66121be10e8"
      },
      "cell_type": "code",
      "source": [
        "bookings = pd.read_csv(bookings_file, nrows=5)\n",
        "bookings.head()"
      ],
      "execution_count": 25,
      "outputs": [
        {
          "output_type": "execute_result",
          "data": {
            "text/html": [
              "<div>\n",
              "<style scoped>\n",
              "    .dataframe tbody tr th:only-of-type {\n",
              "        vertical-align: middle;\n",
              "    }\n",
              "\n",
              "    .dataframe tbody tr th {\n",
              "        vertical-align: top;\n",
              "    }\n",
              "\n",
              "    .dataframe thead th {\n",
              "        text-align: right;\n",
              "    }\n",
              "</style>\n",
              "<table border=\"1\" class=\"dataframe\">\n",
              "  <thead>\n",
              "    <tr style=\"text-align: right;\">\n",
              "      <th></th>\n",
              "      <th>act_date           ^source^pos_ctry^pos_iata^pos_oid  ^rloc          ^cre_date           ^duration^distance^dep_port^dep_city^dep_ctry^arr_port^arr_city^arr_ctry^lst_port^lst_city^lst_ctry^brd_port^brd_city^brd_ctry^off_port^off_city^off_ctry^mkt_port^mkt_city^mkt_ctry^intl^route          ^carrier^bkg_class^cab_class^brd_time           ^off_time           ^pax^year^month^oid</th>\n",
              "    </tr>\n",
              "  </thead>\n",
              "  <tbody>\n",
              "    <tr>\n",
              "      <th>0</th>\n",
              "      <td>2013-03-05 00:00:00^1A    ^DE      ^a68dd7ae95...</td>\n",
              "    </tr>\n",
              "    <tr>\n",
              "      <th>1</th>\n",
              "      <td>2013-03-26 00:00:00^1A    ^US      ^e612b9eeee...</td>\n",
              "    </tr>\n",
              "    <tr>\n",
              "      <th>2</th>\n",
              "      <td>2013-03-26 00:00:00^1A    ^US      ^e612b9eeee...</td>\n",
              "    </tr>\n",
              "    <tr>\n",
              "      <th>3</th>\n",
              "      <td>2013-03-26 00:00:00^1A    ^AU      ^0f984b3bb6...</td>\n",
              "    </tr>\n",
              "    <tr>\n",
              "      <th>4</th>\n",
              "      <td>2013-03-26 00:00:00^1A    ^AU      ^0f984b3bb6...</td>\n",
              "    </tr>\n",
              "  </tbody>\n",
              "</table>\n",
              "</div>"
            ],
            "text/plain": [
              "  act_date           ^source^pos_ctry^pos_iata^pos_oid  ^rloc          ^cre_date           ^duration^distance^dep_port^dep_city^dep_ctry^arr_port^arr_city^arr_ctry^lst_port^lst_city^lst_ctry^brd_port^brd_city^brd_ctry^off_port^off_city^off_ctry^mkt_port^mkt_city^mkt_ctry^intl^route          ^carrier^bkg_class^cab_class^brd_time           ^off_time           ^pax^year^month^oid      \n",
              "0  2013-03-05 00:00:00^1A    ^DE      ^a68dd7ae95...                                                                                                                                                                                                                                                                                                                                             \n",
              "1  2013-03-26 00:00:00^1A    ^US      ^e612b9eeee...                                                                                                                                                                                                                                                                                                                                             \n",
              "2  2013-03-26 00:00:00^1A    ^US      ^e612b9eeee...                                                                                                                                                                                                                                                                                                                                             \n",
              "3  2013-03-26 00:00:00^1A    ^AU      ^0f984b3bb6...                                                                                                                                                                                                                                                                                                                                             \n",
              "4  2013-03-26 00:00:00^1A    ^AU      ^0f984b3bb6...                                                                                                                                                                                                                                                                                                                                             "
            ]
          },
          "metadata": {
            "tags": []
          },
          "execution_count": 25
        }
      ]
    },
    {
      "metadata": {
        "id": "3Db5FzVWz-mN",
        "colab_type": "text"
      },
      "cell_type": "markdown",
      "source": [
        "Clearly the symbol '^' is being used as separator. With this in mind, we load the data correctly:"
      ]
    },
    {
      "metadata": {
        "id": "LRRp7lyL0Ske",
        "colab_type": "code",
        "colab": {
          "base_uri": "https://localhost:8080/",
          "height": 51
        },
        "outputId": "7d05fa35-9181-4275-a897-05111d49b945"
      },
      "cell_type": "code",
      "source": [
        "bookings = pd.read_csv(bookings_file, sep='^', error_bad_lines=False, warn_bad_lines=True)\n",
        "bookings.head()"
      ],
      "execution_count": 0,
      "outputs": [
        {
          "output_type": "stream",
          "text": [
            "/usr/local/lib/python3.6/dist-packages/IPython/core/interactiveshell.py:2718: DtypeWarning: Columns (7,8,27) have mixed types. Specify dtype option on import or set low_memory=False.\n",
            "  interactivity=interactivity, compiler=compiler, result=result)\n"
          ],
          "name": "stderr"
        }
      ]
    },
    {
      "metadata": {
        "id": "EhpYAKGvpasn",
        "colab_type": "code",
        "colab": {
          "base_uri": "https://localhost:8080/",
          "height": 34
        },
        "outputId": "702b2a9c-f842-4827-ba65-94a3c3500e85"
      },
      "cell_type": "code",
      "source": [
        "bookings = pd.read_csv(bookings_file, error_bad_lines=False, warn_bad_lines=True)"
      ],
      "execution_count": 6,
      "outputs": [
        {
          "output_type": "stream",
          "text": [
            "b'Skipping line 5000009: expected 1 fields, saw 2\\nSkipping line 5000010: expected 1 fields, saw 3\\n'\n"
          ],
          "name": "stderr"
        }
      ]
    }
  ]
}