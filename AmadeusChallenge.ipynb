{
  "nbformat": 4,
  "nbformat_minor": 0,
  "metadata": {
    "colab": {
      "name": "AmadeusChallenge.ipynb",
      "version": "0.3.2",
      "provenance": [],
      "collapsed_sections": [],
      "include_colab_link": true
    },
    "kernelspec": {
      "name": "python3",
      "display_name": "Python 3"
    },
    "accelerator": "GPU"
  },
  "cells": [
    {
      "cell_type": "markdown",
      "metadata": {
        "id": "view-in-github",
        "colab_type": "text"
      },
      "source": [
        "[View in Colaboratory](https://colab.research.google.com/github/ibarrond/Amadeus/blob/master/AmadeusChallenge.ipynb)"
      ]
    },
    {
      "metadata": {
        "id": "Jm2h1kTok1o3",
        "colab_type": "text"
      },
      "cell_type": "markdown",
      "source": [
        "# Amadeus challenge for Data Scientists\n",
        "\n",
        "---\n",
        "\n"
      ]
    },
    {
      "metadata": {
        "id": "UU7js348l2gw",
        "colab_type": "text"
      },
      "cell_type": "markdown",
      "source": [
        "## 1. Set Up the Environment and Load the Data\n",
        "This environment, as part of a Linux Virtual Machine, offers Python3 with GPU acceleration and 12 GB of RAM. The RAM size makes it possible to handle the size of the two files provided for this challenge in memory:\n",
        "- `booking.csv` - 4GB\n",
        "- `searches.csv` - 3.4GB"
      ]
    },
    {
      "metadata": {
        "id": "-vdS1Z_fzPwr",
        "colab_type": "text"
      },
      "cell_type": "markdown",
      "source": [
        "### 1.1 Obtaining the Data\n",
        "In order to import the data we upload the files to a Google Drive folder , then mount our Drive folder in the VM (based on [this tutorial](https://colab.research.google.com/notebooks/io.ipynb)) and finally access the files:"
      ]
    },
    {
      "metadata": {
        "id": "o6nvyH4YmugE",
        "colab_type": "code",
        "colab": {
          "base_uri": "https://localhost:8080/",
          "height": 122
        },
        "outputId": "320f9623-630f-4ae7-c49b-b5313015fdff"
      },
      "cell_type": "code",
      "source": [
        "from google.colab import drive\n",
        "drive.mount('/content/gdrive')"
      ],
      "execution_count": 1,
      "outputs": [
        {
          "output_type": "stream",
          "text": [
            "Go to this URL in a browser: https://accounts.google.com/o/oauth2/auth?client_id=947318989803-6bn6qk8qdgf4n4g3pfee6491hc0brc4i.apps.googleusercontent.com&redirect_uri=urn%3Aietf%3Awg%3Aoauth%3A2.0%3Aoob&scope=email%20https%3A%2F%2Fwww.googleapis.com%2Fauth%2Fdocs.test%20https%3A%2F%2Fwww.googleapis.com%2Fauth%2Fdrive%20https%3A%2F%2Fwww.googleapis.com%2Fauth%2Fdrive.photos.readonly%20https%3A%2F%2Fwww.googleapis.com%2Fauth%2Fpeopleapi.readonly&response_type=code\n",
            "\n",
            "Enter your authorization code:\n",
            "··········\n",
            "Mounted at /content/gdrive\n"
          ],
          "name": "stdout"
        }
      ]
    },
    {
      "metadata": {
        "id": "UD6gABOLogr7",
        "colab_type": "text"
      },
      "cell_type": "markdown",
      "source": [
        "We check that the files are there:"
      ]
    },
    {
      "metadata": {
        "id": "fOG_DH_Jnc3G",
        "colab_type": "code",
        "colab": {
          "base_uri": "https://localhost:8080/",
          "height": 85
        },
        "outputId": "e242f191-8f48-4b86-a6e3-c56dd3365c52"
      },
      "cell_type": "code",
      "source": [
        "!ls -la 'gdrive/My Drive/Colab Notebooks/Amadeus'"
      ],
      "execution_count": 19,
      "outputs": [
        {
          "output_type": "stream",
          "text": [
            "total 7754993\n",
            "-rw------- 1 root root       8350 Oct  8 12:59 AmadeusChallenge.ipynb\n",
            "-rw------- 1 root root 4244874509 Oct  8 11:57 bookings.csv\n",
            "-rw------- 1 root root 3696229366 Oct  8 12:36 searches.csv\n"
          ],
          "name": "stdout"
        }
      ]
    },
    {
      "metadata": {
        "id": "U9gGGVPGwe_y",
        "colab_type": "code",
        "colab": {}
      },
      "cell_type": "code",
      "source": [
        "# We store the path to each of the data files\n",
        "bookings_file = 'gdrive/My Drive/Colab Notebooks/Amadeus/bookings.csv'\n",
        "searches_file = 'gdrive/My Drive/Colab Notebooks/Amadeus/searches.csv'"
      ],
      "execution_count": 0,
      "outputs": []
    },
    {
      "metadata": {
        "id": "QWrj3j83w6CY",
        "colab_type": "text"
      },
      "cell_type": "markdown",
      "source": [
        "#### # FIRST EXERCISE: count the number of lines in Python for each file_\n",
        "After a quick searck online, this [source](https://stackoverflow.com/questions/16108526/count-how-many-lines-are-in-a-csv-python) suggested the use of `open()` function to read the number of files:"
      ]
    },
    {
      "metadata": {
        "id": "xmEmanZLw5I8",
        "colab_type": "code",
        "colab": {}
      },
      "cell_type": "code",
      "source": [
        "with open(bookings_file) as f: bookings_num_lines = sum(1 for line in f)\n",
        "with open(searches_file) as f: searches_num_lines = sum(1 for line in f)"
      ],
      "execution_count": 0,
      "outputs": []
    },
    {
      "metadata": {
        "id": "8BNEUWHCyi6j",
        "colab_type": "code",
        "colab": {
          "base_uri": "https://localhost:8080/",
          "height": 34
        },
        "outputId": "589ddc08-8843-4d08-c370-242d639f5a95"
      },
      "cell_type": "code",
      "source": [
        "bookings_num_lines"
      ],
      "execution_count": 7,
      "outputs": [
        {
          "output_type": "execute_result",
          "data": {
            "text/plain": [
              "10000011"
            ]
          },
          "metadata": {
            "tags": []
          },
          "execution_count": 7
        }
      ]
    },
    {
      "metadata": {
        "id": "pwDbd147ynQ-",
        "colab_type": "code",
        "colab": {
          "base_uri": "https://localhost:8080/",
          "height": 34
        },
        "outputId": "f90a8c13-92a4-45ee-ae5e-f0e28f81fcf4"
      },
      "cell_type": "code",
      "source": [
        "searches_num_lines"
      ],
      "execution_count": 8,
      "outputs": [
        {
          "output_type": "execute_result",
          "data": {
            "text/plain": [
              "20390199"
            ]
          },
          "metadata": {
            "tags": []
          },
          "execution_count": 8
        }
      ]
    },
    {
      "metadata": {
        "id": "N81uLPvex2uf",
        "colab_type": "text"
      },
      "cell_type": "markdown",
      "source": [
        "__*RESULT*__: we counted **10,000,011** lines in the `bookings.csv` file, and **20,390,199** lines in the `searches.csv` file."
      ]
    },
    {
      "metadata": {
        "id": "YFxWjnnco3i_",
        "colab_type": "text"
      },
      "cell_type": "markdown",
      "source": [
        "### 1.2 Importing the Bookings Data\n",
        "Now that the files are there, we import them to our IPython session using **Pandas**. Indeed, we will use Pandas for most of our data management."
      ]
    },
    {
      "metadata": {
        "id": "8DUecEPCpOi4",
        "colab_type": "code",
        "colab": {},
        "cellView": "both"
      },
      "cell_type": "code",
      "source": [
        "import pandas as pd\n",
        "import numpy as np"
      ],
      "execution_count": 0,
      "outputs": []
    },
    {
      "metadata": {
        "id": "CS7Ci48pzrPl",
        "colab_type": "text"
      },
      "cell_type": "markdown",
      "source": [
        "Before importing the whole csv file, we'll first have a look at the data structure by examining the first few lines of the file:"
      ]
    },
    {
      "metadata": {
        "id": "4emLR722tXOY",
        "colab_type": "code",
        "colab": {
          "base_uri": "https://localhost:8080/",
          "height": 258
        },
        "outputId": "a70da52c-b969-46ca-dd80-60937bd3af3e"
      },
      "cell_type": "code",
      "source": [
        "bookings = pd.read_csv(bookings_file, nrows=5)\n",
        "bookings.head()"
      ],
      "execution_count": 7,
      "outputs": [
        {
          "output_type": "execute_result",
          "data": {
            "text/html": [
              "<div>\n",
              "<style scoped>\n",
              "    .dataframe tbody tr th:only-of-type {\n",
              "        vertical-align: middle;\n",
              "    }\n",
              "\n",
              "    .dataframe tbody tr th {\n",
              "        vertical-align: top;\n",
              "    }\n",
              "\n",
              "    .dataframe thead th {\n",
              "        text-align: right;\n",
              "    }\n",
              "</style>\n",
              "<table border=\"1\" class=\"dataframe\">\n",
              "  <thead>\n",
              "    <tr style=\"text-align: right;\">\n",
              "      <th></th>\n",
              "      <th>act_date           ^source^pos_ctry^pos_iata^pos_oid  ^rloc          ^cre_date           ^duration^distance^dep_port^dep_city^dep_ctry^arr_port^arr_city^arr_ctry^lst_port^lst_city^lst_ctry^brd_port^brd_city^brd_ctry^off_port^off_city^off_ctry^mkt_port^mkt_city^mkt_ctry^intl^route          ^carrier^bkg_class^cab_class^brd_time           ^off_time           ^pax^year^month^oid</th>\n",
              "    </tr>\n",
              "  </thead>\n",
              "  <tbody>\n",
              "    <tr>\n",
              "      <th>0</th>\n",
              "      <td>2013-03-05 00:00:00^1A    ^DE      ^a68dd7ae95...</td>\n",
              "    </tr>\n",
              "    <tr>\n",
              "      <th>1</th>\n",
              "      <td>2013-03-26 00:00:00^1A    ^US      ^e612b9eeee...</td>\n",
              "    </tr>\n",
              "    <tr>\n",
              "      <th>2</th>\n",
              "      <td>2013-03-26 00:00:00^1A    ^US      ^e612b9eeee...</td>\n",
              "    </tr>\n",
              "    <tr>\n",
              "      <th>3</th>\n",
              "      <td>2013-03-26 00:00:00^1A    ^AU      ^0f984b3bb6...</td>\n",
              "    </tr>\n",
              "    <tr>\n",
              "      <th>4</th>\n",
              "      <td>2013-03-26 00:00:00^1A    ^AU      ^0f984b3bb6...</td>\n",
              "    </tr>\n",
              "  </tbody>\n",
              "</table>\n",
              "</div>"
            ],
            "text/plain": [
              "  act_date           ^source^pos_ctry^pos_iata^pos_oid  ^rloc          ^cre_date           ^duration^distance^dep_port^dep_city^dep_ctry^arr_port^arr_city^arr_ctry^lst_port^lst_city^lst_ctry^brd_port^brd_city^brd_ctry^off_port^off_city^off_ctry^mkt_port^mkt_city^mkt_ctry^intl^route          ^carrier^bkg_class^cab_class^brd_time           ^off_time           ^pax^year^month^oid      \n",
              "0  2013-03-05 00:00:00^1A    ^DE      ^a68dd7ae95...                                                                                                                                                                                                                                                                                                                                             \n",
              "1  2013-03-26 00:00:00^1A    ^US      ^e612b9eeee...                                                                                                                                                                                                                                                                                                                                             \n",
              "2  2013-03-26 00:00:00^1A    ^US      ^e612b9eeee...                                                                                                                                                                                                                                                                                                                                             \n",
              "3  2013-03-26 00:00:00^1A    ^AU      ^0f984b3bb6...                                                                                                                                                                                                                                                                                                                                             \n",
              "4  2013-03-26 00:00:00^1A    ^AU      ^0f984b3bb6...                                                                                                                                                                                                                                                                                                                                             "
            ]
          },
          "metadata": {
            "tags": []
          },
          "execution_count": 7
        }
      ]
    },
    {
      "metadata": {
        "id": "3Db5FzVWz-mN",
        "colab_type": "text"
      },
      "cell_type": "markdown",
      "source": [
        "Clearly the symbol '^' is being used as separator. With this in mind, we load the data correctly:"
      ]
    },
    {
      "metadata": {
        "id": "LRRp7lyL0Ske",
        "colab_type": "code",
        "colab": {
          "base_uri": "https://localhost:8080/",
          "height": 423
        },
        "outputId": "0ddd1d62-3f78-4b42-91ff-268793ceb6fa"
      },
      "cell_type": "code",
      "source": [
        "bookings = pd.read_csv(bookings_file, sep='^', nrows=5)\n",
        "bookings.head()"
      ],
      "execution_count": 62,
      "outputs": [
        {
          "output_type": "execute_result",
          "data": {
            "text/html": [
              "<div>\n",
              "<style scoped>\n",
              "    .dataframe tbody tr th:only-of-type {\n",
              "        vertical-align: middle;\n",
              "    }\n",
              "\n",
              "    .dataframe tbody tr th {\n",
              "        vertical-align: top;\n",
              "    }\n",
              "\n",
              "    .dataframe thead th {\n",
              "        text-align: right;\n",
              "    }\n",
              "</style>\n",
              "<table border=\"1\" class=\"dataframe\">\n",
              "  <thead>\n",
              "    <tr style=\"text-align: right;\">\n",
              "      <th></th>\n",
              "      <th>act_date</th>\n",
              "      <th>source</th>\n",
              "      <th>pos_ctry</th>\n",
              "      <th>pos_iata</th>\n",
              "      <th>pos_oid</th>\n",
              "      <th>rloc</th>\n",
              "      <th>cre_date</th>\n",
              "      <th>duration</th>\n",
              "      <th>distance</th>\n",
              "      <th>dep_port</th>\n",
              "      <th>...</th>\n",
              "      <th>route</th>\n",
              "      <th>carrier</th>\n",
              "      <th>bkg_class</th>\n",
              "      <th>cab_class</th>\n",
              "      <th>brd_time</th>\n",
              "      <th>off_time</th>\n",
              "      <th>pax</th>\n",
              "      <th>year</th>\n",
              "      <th>month</th>\n",
              "      <th>oid</th>\n",
              "    </tr>\n",
              "  </thead>\n",
              "  <tbody>\n",
              "    <tr>\n",
              "      <th>0</th>\n",
              "      <td>2013-03-05 00:00:00</td>\n",
              "      <td>1A</td>\n",
              "      <td>DE</td>\n",
              "      <td>a68dd7ae953c8acfb187a1af2dcbe123</td>\n",
              "      <td>1a11ae49fcbf545fd2afc1a24d88d2b7</td>\n",
              "      <td>ea65900e72d71f4626378e2ebd298267</td>\n",
              "      <td>2013-02-22 00:00:00</td>\n",
              "      <td>1708</td>\n",
              "      <td>0</td>\n",
              "      <td>ZRH</td>\n",
              "      <td>...</td>\n",
              "      <td>LHRZRH</td>\n",
              "      <td>VI</td>\n",
              "      <td>T</td>\n",
              "      <td>Y</td>\n",
              "      <td>2013-03-07 08:50:00</td>\n",
              "      <td>2013-03-07 11:33:37</td>\n",
              "      <td>-1</td>\n",
              "      <td>2013</td>\n",
              "      <td>3</td>\n",
              "      <td>NULL</td>\n",
              "    </tr>\n",
              "    <tr>\n",
              "      <th>1</th>\n",
              "      <td>2013-03-26 00:00:00</td>\n",
              "      <td>1A</td>\n",
              "      <td>US</td>\n",
              "      <td>e612b9eeeee6f17f42d9b0d3b79e75ca</td>\n",
              "      <td>7437560d8f276d6d05eeb806d9e7edee</td>\n",
              "      <td>737295a86982c941f1c2da9a46a14043</td>\n",
              "      <td>2013-03-26 00:00:00</td>\n",
              "      <td>135270</td>\n",
              "      <td>0</td>\n",
              "      <td>SAL</td>\n",
              "      <td>...</td>\n",
              "      <td>SALATLCLT</td>\n",
              "      <td>NV</td>\n",
              "      <td>L</td>\n",
              "      <td>Y</td>\n",
              "      <td>2013-04-12 13:04:00</td>\n",
              "      <td>2013-04-12 22:05:40</td>\n",
              "      <td>1</td>\n",
              "      <td>2013</td>\n",
              "      <td>3</td>\n",
              "      <td>NULL</td>\n",
              "    </tr>\n",
              "    <tr>\n",
              "      <th>2</th>\n",
              "      <td>2013-03-26 00:00:00</td>\n",
              "      <td>1A</td>\n",
              "      <td>US</td>\n",
              "      <td>e612b9eeeee6f17f42d9b0d3b79e75ca</td>\n",
              "      <td>7437560d8f276d6d05eeb806d9e7edee</td>\n",
              "      <td>737295a86982c941f1c2da9a46a14043</td>\n",
              "      <td>2013-03-26 00:00:00</td>\n",
              "      <td>135270</td>\n",
              "      <td>0</td>\n",
              "      <td>SAL</td>\n",
              "      <td>...</td>\n",
              "      <td>CLTATLSAL</td>\n",
              "      <td>NV</td>\n",
              "      <td>U</td>\n",
              "      <td>Y</td>\n",
              "      <td>2013-07-15 07:00:00</td>\n",
              "      <td>2013-07-15 11:34:51</td>\n",
              "      <td>1</td>\n",
              "      <td>2013</td>\n",
              "      <td>3</td>\n",
              "      <td>NULL</td>\n",
              "    </tr>\n",
              "    <tr>\n",
              "      <th>3</th>\n",
              "      <td>2013-03-26 00:00:00</td>\n",
              "      <td>1A</td>\n",
              "      <td>AU</td>\n",
              "      <td>0f984b3bb6bd06661c95529bbd6193bc</td>\n",
              "      <td>36472c6dbaf7afec9136ac40364e2794</td>\n",
              "      <td>5ecf00fdcbcec761c43dc7285253d0c1</td>\n",
              "      <td>2013-03-26 00:00:00</td>\n",
              "      <td>30885</td>\n",
              "      <td>0</td>\n",
              "      <td>AKL</td>\n",
              "      <td>...</td>\n",
              "      <td>AKLHKGSVO</td>\n",
              "      <td>XK</td>\n",
              "      <td>G</td>\n",
              "      <td>Y</td>\n",
              "      <td>2013-04-24 23:59:00</td>\n",
              "      <td>2013-04-25 16:06:31</td>\n",
              "      <td>1</td>\n",
              "      <td>2013</td>\n",
              "      <td>3</td>\n",
              "      <td>SYDA82546</td>\n",
              "    </tr>\n",
              "    <tr>\n",
              "      <th>4</th>\n",
              "      <td>2013-03-26 00:00:00</td>\n",
              "      <td>1A</td>\n",
              "      <td>AU</td>\n",
              "      <td>0f984b3bb6bd06661c95529bbd6193bc</td>\n",
              "      <td>36472c6dbaf7afec9136ac40364e2794</td>\n",
              "      <td>5ecf00fdcbcec761c43dc7285253d0c1</td>\n",
              "      <td>2013-03-26 00:00:00</td>\n",
              "      <td>30885</td>\n",
              "      <td>0</td>\n",
              "      <td>AKL</td>\n",
              "      <td>...</td>\n",
              "      <td>SVOHKGAKL</td>\n",
              "      <td>XK</td>\n",
              "      <td>G</td>\n",
              "      <td>Y</td>\n",
              "      <td>2013-05-14 20:15:00</td>\n",
              "      <td>2013-05-16 10:44:50</td>\n",
              "      <td>1</td>\n",
              "      <td>2013</td>\n",
              "      <td>3</td>\n",
              "      <td>SYDA82546</td>\n",
              "    </tr>\n",
              "  </tbody>\n",
              "</table>\n",
              "<p>5 rows × 38 columns</p>\n",
              "</div>"
            ],
            "text/plain": [
              "   act_date             source  pos_ctry                          pos_iata  \\\n",
              "0  2013-03-05 00:00:00  1A      DE        a68dd7ae953c8acfb187a1af2dcbe123   \n",
              "1  2013-03-26 00:00:00  1A      US        e612b9eeeee6f17f42d9b0d3b79e75ca   \n",
              "2  2013-03-26 00:00:00  1A      US        e612b9eeeee6f17f42d9b0d3b79e75ca   \n",
              "3  2013-03-26 00:00:00  1A      AU        0f984b3bb6bd06661c95529bbd6193bc   \n",
              "4  2013-03-26 00:00:00  1A      AU        0f984b3bb6bd06661c95529bbd6193bc   \n",
              "\n",
              "                          pos_oid                      rloc            \\\n",
              "0  1a11ae49fcbf545fd2afc1a24d88d2b7  ea65900e72d71f4626378e2ebd298267   \n",
              "1  7437560d8f276d6d05eeb806d9e7edee  737295a86982c941f1c2da9a46a14043   \n",
              "2  7437560d8f276d6d05eeb806d9e7edee  737295a86982c941f1c2da9a46a14043   \n",
              "3  36472c6dbaf7afec9136ac40364e2794  5ecf00fdcbcec761c43dc7285253d0c1   \n",
              "4  36472c6dbaf7afec9136ac40364e2794  5ecf00fdcbcec761c43dc7285253d0c1   \n",
              "\n",
              "   cre_date             duration  distance  dep_port    ...      \\\n",
              "0  2013-02-22 00:00:00      1708         0  ZRH         ...       \n",
              "1  2013-03-26 00:00:00    135270         0  SAL         ...       \n",
              "2  2013-03-26 00:00:00    135270         0  SAL         ...       \n",
              "3  2013-03-26 00:00:00     30885         0  AKL         ...       \n",
              "4  2013-03-26 00:00:00     30885         0  AKL         ...       \n",
              "\n",
              "   route           carrier  bkg_class  cab_class  brd_time             \\\n",
              "0  LHRZRH               VI  T          Y          2013-03-07 08:50:00   \n",
              "1  SALATLCLT            NV  L          Y          2013-04-12 13:04:00   \n",
              "2  CLTATLSAL            NV  U          Y          2013-07-15 07:00:00   \n",
              "3  AKLHKGSVO            XK  G          Y          2013-04-24 23:59:00   \n",
              "4  SVOHKGAKL            XK  G          Y          2013-05-14 20:15:00   \n",
              "\n",
              "   off_time            pax  year month  oid        \n",
              "0  2013-03-07 11:33:37  -1  2013     3  NULL       \n",
              "1  2013-04-12 22:05:40   1  2013     3  NULL       \n",
              "2  2013-07-15 11:34:51   1  2013     3  NULL       \n",
              "3  2013-04-25 16:06:31   1  2013     3  SYDA82546  \n",
              "4  2013-05-16 10:44:50   1  2013     3  SYDA82546  \n",
              "\n",
              "[5 rows x 38 columns]"
            ]
          },
          "metadata": {
            "tags": []
          },
          "execution_count": 62
        }
      ]
    },
    {
      "metadata": {
        "id": "aE7GLos554PI",
        "colab_type": "text"
      },
      "cell_type": "markdown",
      "source": [
        "We still need to format the data in a propper way. To do so we inspect one row and assign types to each of the fields:"
      ]
    },
    {
      "metadata": {
        "id": "MhER9QFF5Zh5",
        "colab_type": "code",
        "colab": {
          "base_uri": "https://localhost:8080/",
          "height": 680
        },
        "outputId": "b4f2e335-4d9b-44fe-ff6e-901416b4e029"
      },
      "cell_type": "code",
      "source": [
        "bookings.iloc[0]"
      ],
      "execution_count": 16,
      "outputs": [
        {
          "output_type": "execute_result",
          "data": {
            "text/plain": [
              "act_date                            2013-03-05 00:00:00\n",
              "source                                           1A    \n",
              "pos_ctry                                       DE      \n",
              "pos_iata               a68dd7ae953c8acfb187a1af2dcbe123\n",
              "pos_oid                1a11ae49fcbf545fd2afc1a24d88d2b7\n",
              "rloc                   ea65900e72d71f4626378e2ebd298267\n",
              "cre_date                            2013-02-22 00:00:00\n",
              "duration                                           1708\n",
              "distance                                              0\n",
              "dep_port                                       ZRH     \n",
              "dep_city                                       ZRH     \n",
              "dep_ctry                                       CH      \n",
              "arr_port                                       LHR     \n",
              "arr_city                                       LON     \n",
              "arr_ctry                                       GB      \n",
              "lst_port                                       ZRH     \n",
              "lst_city                                       ZRH     \n",
              "lst_ctry                                       CH      \n",
              "brd_port                                       LHR     \n",
              "brd_city                                       LON     \n",
              "brd_ctry                                       GB      \n",
              "off_port                                       ZRH     \n",
              "off_city                                       ZRH     \n",
              "off_ctry                                       CH      \n",
              "mkt_port                                       LHRZRH  \n",
              "mkt_city                                       LONZRH  \n",
              "mkt_ctry                                       CHGB    \n",
              "intl                                                  1\n",
              "route                                   LHRZRH         \n",
              "carrier                                              VI\n",
              "bkg_class                                     T        \n",
              "cab_class                                     Y        \n",
              "brd_time                            2013-03-07 08:50:00\n",
              "off_time                            2013-03-07 11:33:37\n",
              "pax                                                  -1\n",
              "year                                               2013\n",
              "month                                                 3\n",
              "oid                                           NULL     \n",
              "Name: 0, dtype: object"
            ]
          },
          "metadata": {
            "tags": []
          },
          "execution_count": 16
        }
      ]
    },
    {
      "metadata": {
        "id": "oPRIRNqFAdLn",
        "colab_type": "text"
      },
      "cell_type": "markdown",
      "source": [
        "We finally load all the `bookings.csv` data correctly. For the second exercise we will only need the columns `pax`, and `arr_port`, thus we only import these:"
      ]
    },
    {
      "metadata": {
        "id": "uOLJ94WPAlEh",
        "colab_type": "code",
        "colab": {}
      },
      "cell_type": "code",
      "source": [
        "bookings = pd.read_csv(bookings_file, usecols=['arr_port', 'pax'], sep='^')"
      ],
      "execution_count": 0,
      "outputs": []
    },
    {
      "metadata": {
        "id": "M2DROptzEHi5",
        "colab_type": "code",
        "colab": {
          "base_uri": "https://localhost:8080/",
          "height": 204
        },
        "outputId": "4ab99ff1-f71d-4ce9-c263-b370c6eaf9b5"
      },
      "cell_type": "code",
      "source": [
        "bookings.head()"
      ],
      "execution_count": 36,
      "outputs": [
        {
          "output_type": "execute_result",
          "data": {
            "text/html": [
              "<div>\n",
              "<style scoped>\n",
              "    .dataframe tbody tr th:only-of-type {\n",
              "        vertical-align: middle;\n",
              "    }\n",
              "\n",
              "    .dataframe tbody tr th {\n",
              "        vertical-align: top;\n",
              "    }\n",
              "\n",
              "    .dataframe thead th {\n",
              "        text-align: right;\n",
              "    }\n",
              "</style>\n",
              "<table border=\"1\" class=\"dataframe\">\n",
              "  <thead>\n",
              "    <tr style=\"text-align: right;\">\n",
              "      <th></th>\n",
              "      <th>arr_port</th>\n",
              "      <th>pax</th>\n",
              "    </tr>\n",
              "  </thead>\n",
              "  <tbody>\n",
              "    <tr>\n",
              "      <th>0</th>\n",
              "      <td>LHR</td>\n",
              "      <td>-1.0</td>\n",
              "    </tr>\n",
              "    <tr>\n",
              "      <th>1</th>\n",
              "      <td>CLT</td>\n",
              "      <td>1.0</td>\n",
              "    </tr>\n",
              "    <tr>\n",
              "      <th>2</th>\n",
              "      <td>CLT</td>\n",
              "      <td>1.0</td>\n",
              "    </tr>\n",
              "    <tr>\n",
              "      <th>3</th>\n",
              "      <td>SVO</td>\n",
              "      <td>1.0</td>\n",
              "    </tr>\n",
              "    <tr>\n",
              "      <th>4</th>\n",
              "      <td>SVO</td>\n",
              "      <td>1.0</td>\n",
              "    </tr>\n",
              "  </tbody>\n",
              "</table>\n",
              "</div>"
            ],
            "text/plain": [
              "   arr_port  pax\n",
              "0  LHR      -1.0\n",
              "1  CLT       1.0\n",
              "2  CLT       1.0\n",
              "3  SVO       1.0\n",
              "4  SVO       1.0"
            ]
          },
          "metadata": {
            "tags": []
          },
          "execution_count": 36
        }
      ]
    },
    {
      "metadata": {
        "id": "NETkG7krrUM2",
        "colab_type": "text"
      },
      "cell_type": "markdown",
      "source": [
        "## 2. SECOND EXERCISE: Top 10 arrival airports in the world in 2013"
      ]
    },
    {
      "metadata": {
        "id": "Af8qqKtRskHa",
        "colab_type": "text"
      },
      "cell_type": "markdown",
      "source": [
        "IN order to accumulate the number of petitions, we should first check for empty data:"
      ]
    },
    {
      "metadata": {
        "id": "ZvBBTl4wp1pt",
        "colab_type": "code",
        "colab": {
          "base_uri": "https://localhost:8080/",
          "height": 68
        },
        "outputId": "42752fd9-bfc3-47b5-8a79-a20a206568ee"
      },
      "cell_type": "code",
      "source": [
        "bookings.isnull().sum()"
      ],
      "execution_count": 51,
      "outputs": [
        {
          "output_type": "execute_result",
          "data": {
            "text/plain": [
              "arr_port    0\n",
              "pax         1\n",
              "dtype: int64"
            ]
          },
          "metadata": {
            "tags": []
          },
          "execution_count": 51
        }
      ]
    },
    {
      "metadata": {
        "id": "BaFfo0_rs10J",
        "colab_type": "text"
      },
      "cell_type": "markdown",
      "source": [
        "Looks like there is one empty value in the pax column. We will find it and remove it from our dataframe:"
      ]
    },
    {
      "metadata": {
        "id": "J3W-_fdGq6i7",
        "colab_type": "code",
        "colab": {
          "base_uri": "https://localhost:8080/",
          "height": 80
        },
        "outputId": "d7e6429c-be7e-4283-aa37-1c6da611ff38"
      },
      "cell_type": "code",
      "source": [
        "bookings[bookings.isnull().any(axis=1)]"
      ],
      "execution_count": 55,
      "outputs": [
        {
          "output_type": "execute_result",
          "data": {
            "text/html": [
              "<div>\n",
              "<style scoped>\n",
              "    .dataframe tbody tr th:only-of-type {\n",
              "        vertical-align: middle;\n",
              "    }\n",
              "\n",
              "    .dataframe tbody tr th {\n",
              "        vertical-align: top;\n",
              "    }\n",
              "\n",
              "    .dataframe thead th {\n",
              "        text-align: right;\n",
              "    }\n",
              "</style>\n",
              "<table border=\"1\" class=\"dataframe\">\n",
              "  <thead>\n",
              "    <tr style=\"text-align: right;\">\n",
              "      <th></th>\n",
              "      <th>arr_port</th>\n",
              "      <th>pax</th>\n",
              "    </tr>\n",
              "  </thead>\n",
              "  <tbody>\n",
              "    <tr>\n",
              "      <th>5000007</th>\n",
              "      <td>SG</td>\n",
              "      <td>NaN</td>\n",
              "    </tr>\n",
              "  </tbody>\n",
              "</table>\n",
              "</div>"
            ],
            "text/plain": [
              "         arr_port  pax\n",
              "5000007  SG        NaN"
            ]
          },
          "metadata": {
            "tags": []
          },
          "execution_count": 55
        }
      ]
    },
    {
      "metadata": {
        "id": "bQwbAqxKtl15",
        "colab_type": "code",
        "colab": {}
      },
      "cell_type": "code",
      "source": [
        "bookings = bookings.drop(index=5000007)"
      ],
      "execution_count": 0,
      "outputs": []
    },
    {
      "metadata": {
        "id": "CST9d18nuT5g",
        "colab_type": "text"
      },
      "cell_type": "markdown",
      "source": [
        "Now we can launch our query to the dataframe. It is composed of:\n",
        "1. Aggregation by `arr_port`: We will aggregate the destination airport using `groupby(['arr_port'])`.\n",
        "2. Accumulating the number of passengers: sum the pax, simply using `sum()`,\n",
        "3. Obtaining the top 10 by sorting via `.sort_values(by=['pax'], ascending=False)` and extracting the top 10 with `head(10)`."
      ]
    },
    {
      "metadata": {
        "id": "RnUbdFohtQgr",
        "colab_type": "code",
        "colab": {}
      },
      "cell_type": "code",
      "source": [
        "top10_arr_port = bookings.groupby(['arr_port']).sum().sort_values(by=['pax'], ascending=False).head(10)"
      ],
      "execution_count": 0,
      "outputs": []
    },
    {
      "metadata": {
        "id": "zSGW9PBhwfId",
        "colab_type": "text"
      },
      "cell_type": "markdown",
      "source": [
        "__*RESULT*__: The top 10 airports, including the number of passengers (pax column) are: "
      ]
    },
    {
      "metadata": {
        "id": "WNHiqEe4wsYH",
        "colab_type": "code",
        "colab": {
          "base_uri": "https://localhost:8080/",
          "height": 390
        },
        "outputId": "00798ee5-126f-443f-ff90-979f678ec93a"
      },
      "cell_type": "code",
      "source": [
        "top10_arr_port"
      ],
      "execution_count": 74,
      "outputs": [
        {
          "output_type": "execute_result",
          "data": {
            "text/html": [
              "<div>\n",
              "<style scoped>\n",
              "    .dataframe tbody tr th:only-of-type {\n",
              "        vertical-align: middle;\n",
              "    }\n",
              "\n",
              "    .dataframe tbody tr th {\n",
              "        vertical-align: top;\n",
              "    }\n",
              "\n",
              "    .dataframe thead th {\n",
              "        text-align: right;\n",
              "    }\n",
              "</style>\n",
              "<table border=\"1\" class=\"dataframe\">\n",
              "  <thead>\n",
              "    <tr style=\"text-align: right;\">\n",
              "      <th></th>\n",
              "      <th>pax</th>\n",
              "    </tr>\n",
              "    <tr>\n",
              "      <th>arr_port</th>\n",
              "      <th></th>\n",
              "    </tr>\n",
              "  </thead>\n",
              "  <tbody>\n",
              "    <tr>\n",
              "      <th>LHR</th>\n",
              "      <td>88809.0</td>\n",
              "    </tr>\n",
              "    <tr>\n",
              "      <th>MCO</th>\n",
              "      <td>70930.0</td>\n",
              "    </tr>\n",
              "    <tr>\n",
              "      <th>LAX</th>\n",
              "      <td>70530.0</td>\n",
              "    </tr>\n",
              "    <tr>\n",
              "      <th>LAS</th>\n",
              "      <td>69630.0</td>\n",
              "    </tr>\n",
              "    <tr>\n",
              "      <th>JFK</th>\n",
              "      <td>66270.0</td>\n",
              "    </tr>\n",
              "    <tr>\n",
              "      <th>CDG</th>\n",
              "      <td>64490.0</td>\n",
              "    </tr>\n",
              "    <tr>\n",
              "      <th>BKK</th>\n",
              "      <td>59460.0</td>\n",
              "    </tr>\n",
              "    <tr>\n",
              "      <th>MIA</th>\n",
              "      <td>58150.0</td>\n",
              "    </tr>\n",
              "    <tr>\n",
              "      <th>SFO</th>\n",
              "      <td>58000.0</td>\n",
              "    </tr>\n",
              "    <tr>\n",
              "      <th>DXB</th>\n",
              "      <td>55590.0</td>\n",
              "    </tr>\n",
              "  </tbody>\n",
              "</table>\n",
              "</div>"
            ],
            "text/plain": [
              "              pax\n",
              "arr_port         \n",
              "LHR       88809.0\n",
              "MCO       70930.0\n",
              "LAX       70530.0\n",
              "LAS       69630.0\n",
              "JFK       66270.0\n",
              "CDG       64490.0\n",
              "BKK       59460.0\n",
              "MIA       58150.0\n",
              "SFO       58000.0\n",
              "DXB       55590.0"
            ]
          },
          "metadata": {
            "tags": []
          },
          "execution_count": 74
        }
      ]
    },
    {
      "metadata": {
        "id": "zWlNzHLgwuTn",
        "colab_type": "text"
      },
      "cell_type": "markdown",
      "source": [
        "__*EXTRA*__: we can also obtain the name of the airport using geobases:"
      ]
    }
  ]
}